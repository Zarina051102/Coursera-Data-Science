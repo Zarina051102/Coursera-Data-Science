{
 "cells": [
  {
   "cell_type": "markdown",
   "metadata": {},
   "source": [
    "<center>\n",
    "    <img src=\"https://cf-courses-data.s3.us.cloud-object-storage.appdomain.cloud/IBMDeveloperSkillsNetwork-DS0105EN-SkillsNetwork/labs/Module2/images/SN_web_lightmode.png\" width=\"300\" alt=\"cognitiveclass.ai logo\">\n",
    "</center>\n"
   ]
  },
  {
   "cell_type": "markdown",
   "metadata": {},
   "source": [
    "#### Add your code below following the instructions given in the course\n"
   ]
  },
  {
   "cell_type": "markdown",
   "metadata": {},
   "source": [
    "# Data Science Notebook"
   ]
  },
  {
   "cell_type": "markdown",
   "metadata": {},
   "source": [
    "# Introduction\n",
    "\n",
    "This notebook is dedicated to exploring the field of Data Science. It includes key concepts, tools, and resources for working in this domain.\n"
   ]
  },
  {
   "cell_type": "markdown",
   "metadata": {},
   "source": [
    "# Data Science Languages\n",
    "Python: Widely used for its simplicity and extensive libraries\n",
    "\n",
    "R: Excellent for statistical analysis and visualization\n",
    "\n",
    "SQL: Essential for database querying and manipulation\n",
    "\n",
    "Julia: Gaining popularity for high-performance numerical and scientific computing\n",
    "\n",
    "Scala: Often used with Apache Spark for big data processing"
   ]
  },
  {
   "cell_type": "markdown",
   "metadata": {},
   "source": [
    "# Data Science Libraries\n",
    "NumPy: Provides support for large multi-dimensional arrays and matrices, along with a collection of mathematical functions\n",
    " \n",
    "Pandas: Offers data structures and functions for data manipulation and analysis, particularly for structured data\n",
    "\n",
    "Matplotlib: A plotting library for creating static, interactive, and animated visualizations in Python\n",
    "\n",
    "Scikit-learn: A library for machine learning that provides simple and efficient tools for data mining and analysis\n",
    "\n",
    "TensorFlow: An open-source library for deep learning and machine learning applications"
   ]
  },
  {
   "cell_type": "markdown",
   "metadata": {},
   "source": [
    "# Data Science Tools\n",
    "\n",
    "| Tool              | Description                             |\n",
    "|-------------------|-----------------------------------------|\n",
    "| Jupyter Notebook   | An interactive coding environment       |\n",
    "| RStudio           | A development environment for R        |\n",
    "| Apache Spark      | Big data processing framework           |\n",
    "| Tableau           | Data visualization tool                 |\n",
    "| Git               | Version control system                  |\n"
   ]
  },
  {
   "cell_type": "markdown",
   "metadata": {},
   "source": [
    "# Examples of Arithmetic Expressions\n",
    "\n",
    "- Addition: `a + b`\n",
    "- Subtraction: `a - b`\n",
    "- Multiplication: `a * b`\n",
    "- Division: `a / b`\n"
   ]
  },
  {
   "cell_type": "code",
   "execution_count": 12,
   "metadata": {
    "tags": []
   },
   "outputs": [
    {
     "name": "stdout",
     "output_type": "stream",
     "text": [
      "414 41\n"
     ]
    }
   ],
   "source": [
    "# Code for multiply and addition\n",
    "a = 23\n",
    "b = 18\n",
    "multiplication = a * b\n",
    "addition = a + b\n",
    "print(multiplication, addition)\n"
   ]
  },
  {
   "cell_type": "code",
   "execution_count": 13,
   "metadata": {
    "tags": []
   },
   "outputs": [
    {
     "name": "stdin",
     "output_type": "stream",
     "text": [
      "Введите количество минут:  180\n"
     ]
    },
    {
     "name": "stdout",
     "output_type": "stream",
     "text": [
      "3.0\n"
     ]
    }
   ],
   "source": [
    "\n",
    "minutes = float(input(\"Введите количество минут: \"))\n",
    "hours = minutes / 60\n",
    "print(hours)\n"
   ]
  },
  {
   "cell_type": "markdown",
   "metadata": {},
   "source": [
    "# Objectives\n",
    "1. Understand the fundamental concepts of data science.\n",
    "2. Learn about various programming languages and libraries used in data science.\n",
    "3. Implement arithmetic expressions and conversions using Python.\n"
   ]
  },
  {
   "cell_type": "markdown",
   "metadata": {},
   "source": [
    "# Author\n",
    "**Zhekenova Zarina**\n"
   ]
  },
  {
   "cell_type": "code",
   "execution_count": null,
   "metadata": {},
   "outputs": [],
   "source": []
  }
 ],
 "metadata": {
  "kernelspec": {
   "display_name": "Python",
   "language": "python",
   "name": "conda-env-python-py"
  },
  "language_info": {
   "codemirror_mode": {
    "name": "ipython",
    "version": 3
   },
   "file_extension": ".py",
   "mimetype": "text/x-python",
   "name": "python",
   "nbconvert_exporter": "python",
   "pygments_lexer": "ipython3",
   "version": "3.7.12"
  }
 },
 "nbformat": 4,
 "nbformat_minor": 4
}
